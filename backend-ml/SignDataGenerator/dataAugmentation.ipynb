{
 "metadata": {
  "language_info": {
   "codemirror_mode": {
    "name": "ipython",
    "version": 3
   },
   "file_extension": ".py",
   "mimetype": "text/x-python",
   "name": "python",
   "nbconvert_exporter": "python",
   "pygments_lexer": "ipython3",
   "version": "3.8.3-final"
  },
  "orig_nbformat": 2,
  "kernelspec": {
   "name": "python3",
   "display_name": "Python 3",
   "language": "python"
  }
 },
 "nbformat": 4,
 "nbformat_minor": 2,
 "cells": [
  {
   "source": [
    "# Data augmentation\n",
    "In this notebook I'll describe all functions used to generate multiple images.\n",
    "This is really useful because YOLO needs a lot of train data to detect objects properly.\n",
    "Using data augmentation helps a lot and make this process faster."
   ],
   "cell_type": "markdown",
   "metadata": {}
  },
  {
   "source": [
    "## Geometric distortions\n",
    "* Object translation\n",
    "* Object clipping\n",
    "* Object scaling\n",
    "* Object rotation - only Y axis\n",
    "\n",
    "## Photo-metric distortions\n",
    "* Changing brightness\n",
    "* Chaining saturation\n",
    "* Changing contrast\n",
    "* Adding noise\n",
    "* Adding blur"
   ],
   "cell_type": "markdown",
   "metadata": {}
  },
  {
   "cell_type": "code",
   "execution_count": 2,
   "metadata": {},
   "outputs": [],
   "source": [
    "from data_augmentation import DataAugmentation\n",
    "from PIL import Image\n",
    "\n",
    "# Two files will be used for tests\n",
    "sign = Image.open('./data/sign.jpg').convert('RGBA')\n",
    "background = Image.open('./data/background.jpg').convert('RGBA')"
   ]
  },
  {
   "source": [
    "## Translating object\n",
    "This geometric distortion will place object in random place inside background"
   ],
   "cell_type": "markdown",
   "metadata": {}
  },
  {
   "cell_type": "code",
   "execution_count": 4,
   "metadata": {},
   "outputs": [],
   "source": [
    "dataAugmentation = DataAugmentation(512, 0.2)\n",
    "generated_image, annotations = dataAugmentation.generate_image(sign, background)\n",
    "generated_image.show()\n",
    "generated_image.convert('RGB').save('translated.jpg')\n"
   ]
  },
  {
   "source": [
    "## Clipping object\n",
    "This geometric distortion will clip any % of object out of the frame"
   ],
   "cell_type": "markdown",
   "metadata": {}
  },
  {
   "cell_type": "code",
   "execution_count": 10,
   "metadata": {},
   "outputs": [],
   "source": [
    "dataAugmentation = DataAugmentation(512, 0.2, clip_ratio=0.2)\n",
    "generated_image, _ = dataAugmentation.generate_image(sign, background)\n",
    "generated_image.show()\n",
    "generated_image.convert('RGB').save('clipped.jpg')"
   ]
  },
  {
   "source": [
    "## Scaling object\n",
    "This geometric distortion will scale object"
   ],
   "cell_type": "markdown",
   "metadata": {}
  },
  {
   "cell_type": "code",
   "execution_count": 12,
   "metadata": {},
   "outputs": [],
   "source": [
    "dataAugmentation = DataAugmentation(512, 0.2, scale_variation=2.0)\n",
    "generated_image, _ = dataAugmentation.generate_image(sign, background)\n",
    "generated_image.show()\n",
    "generated_image.convert('RGB').save('scaled.jpg')"
   ]
  },
  {
   "source": [
    "## Rotating object\n",
    "This geometric distortion will rotate object"
   ],
   "cell_type": "markdown",
   "metadata": {}
  },
  {
   "cell_type": "code",
   "execution_count": 4,
   "metadata": {},
   "outputs": [],
   "source": [
    "dataAugmentation = DataAugmentation(512, 0.2, rotate_variation=45.0)\n",
    "generated_image, _ = dataAugmentation.generate_image(sign, background)\n",
    "generated_image.show()\n",
    "generated_image.convert('RGB').save('rotated.jpg')"
   ]
  },
  {
   "source": [
    "## Changing brightness\n",
    "This photo-metric distortion will change the brightness of the object."
   ],
   "cell_type": "markdown",
   "metadata": {}
  },
  {
   "cell_type": "code",
   "execution_count": 16,
   "metadata": {},
   "outputs": [],
   "source": [
    "dataAugmentation = DataAugmentation(512, 0.2, brightness_factor=0.5)\n",
    "generated_image, _ = dataAugmentation.generate_image(sign, background)\n",
    "generated_image.show()\n",
    "generated_image.convert('RGB').save('brightness.jpg')"
   ]
  },
  {
   "source": [
    "## Changing saturation\n",
    "This photo-metric distortion will change the saturation of the object."
   ],
   "cell_type": "markdown",
   "metadata": {}
  },
  {
   "cell_type": "code",
   "execution_count": 4,
   "metadata": {},
   "outputs": [],
   "source": [
    "dataAugmentation = DataAugmentation(512, 0.2, saturation_factor=1.0)\n",
    "generated_image, _ = dataAugmentation.generate_image(sign, background)\n",
    "generated_image.show()\n",
    "generated_image.convert('RGB').save('saturation.jpg')"
   ]
  },
  {
   "source": [
    "## Changing contrast\n",
    "This photo-metric distortion will change the contrast of the object."
   ],
   "cell_type": "markdown",
   "metadata": {}
  },
  {
   "cell_type": "code",
   "execution_count": 5,
   "metadata": {},
   "outputs": [],
   "source": [
    "dataAugmentation = DataAugmentation(512, 0.2, contrast_factor=1.0)\n",
    "generated_image, _ = dataAugmentation.generate_image(sign, background)\n",
    "generated_image.show()\n",
    "generated_image.convert('RGB').save('contrast.jpg')"
   ]
  },
  {
   "source": [
    "## Adding noise\n",
    "This photo-metric distortion will add noise the object."
   ],
   "cell_type": "markdown",
   "metadata": {}
  },
  {
   "cell_type": "code",
   "execution_count": 6,
   "metadata": {},
   "outputs": [],
   "source": [
    "dataAugmentation = DataAugmentation(512, 0.2, noise_frequency=0.1)\n",
    "generated_image, _ = dataAugmentation.generate_image(sign, background)\n",
    "generated_image.show()\n",
    "generated_image.convert('RGB').save('noise.jpg')"
   ]
  },
  {
   "source": [
    "## Add blur\n",
    "This photo-metric distortion will add blur to the object"
   ],
   "cell_type": "markdown",
   "metadata": {}
  },
  {
   "cell_type": "code",
   "execution_count": 8,
   "metadata": {},
   "outputs": [],
   "source": [
    "dataAugmentation = DataAugmentation(512, 0.2, blur=True)\n",
    "generated_image, _ = dataAugmentation.generate_image(sign, background)\n",
    "generated_image.show()\n",
    "generated_image.convert('RGB').save('blur.jpg')"
   ]
  },
  {
   "cell_type": "code",
   "execution_count": null,
   "metadata": {},
   "outputs": [],
   "source": []
  }
 ]
}